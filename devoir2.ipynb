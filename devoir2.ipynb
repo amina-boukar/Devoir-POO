{
 "cells": [
  {
   "cell_type": "code",
   "execution_count": 1,
   "id": "1a6cec53-dfd7-43d3-b9e4-002361468388",
   "metadata": {},
   "outputs": [
    {
     "name": "stdin",
     "output_type": "stream",
     "text": [
      "Veuillez entrer une chaîne de caractères :  amina\n"
     ]
    },
    {
     "name": "stdout",
     "output_type": "stream",
     "text": [
      "a\n",
      "m\n",
      "i\n",
      "n\n",
      "a\n"
     ]
    }
   ],
   "source": [
    "# Demander à l'utilisateur de saisir une chaîne de caractères\n",
    "s = input(\"Veuillez entrer une chaîne de caractères : \")\n",
    "\n",
    "# Afficher chaque caractère sur une nouvelle ligne\n",
    "for caractere in s:\n",
    "    print(caractere)"
   ]
  },
  {
   "cell_type": "code",
   "execution_count": 5,
   "id": "bc03f245-63b4-4017-855a-237c4d40bb86",
   "metadata": {},
   "outputs": [
    {
     "name": "stdin",
     "output_type": "stream",
     "text": [
      "Veuillez entrer une chaîne de caractères :  amina\n"
     ]
    },
    {
     "name": "stdout",
     "output_type": "stream",
     "text": [
      "\n",
      "Occurrences de chaque caractère :\n",
      "Le caractère 'a' apparaît 2 fois.\n",
      "Le caractère 'm' apparaît 1 fois.\n",
      "Le caractère 'i' apparaît 1 fois.\n",
      "Le caractère 'n' apparaît 1 fois.\n"
     ]
    }
   ],
   "source": [
    "# Demander à l'utilisateur de saisir une chaîne de caractères\n",
    "s = input(\"Veuillez entrer une chaîne de caractères : \")\n",
    "\n",
    "# Dictionnaire pour stocker le nombre d'occurrences de chaque caractère\n",
    "occurrences = {}\n",
    "\n",
    "# Parcourir chaque caractère de la chaîne\n",
    "for caractere in s:\n",
    "    # Compter les occurrences\n",
    "    if caractere in occurrences:\n",
    "        occurrences[caractere] += 1\n",
    "    else:\n",
    "        occurrences[caractere] = 1\n",
    "\n",
    "# Afficher le nombre d'occurrences de chaque caractère\n",
    "print(\"\\nOccurrences de chaque caractère :\")\n",
    "for caractere, count in occurrences.items():\n",
    "    print(f\"Le caractère '{caractere}' apparaît {count} fois.\")"
   ]
  },
  {
   "cell_type": "code",
   "execution_count": 7,
   "id": "a4fa1944-50ac-43ca-9a3e-a4c9880693b0",
   "metadata": {},
   "outputs": [
    {
     "name": "stdin",
     "output_type": "stream",
     "text": [
      "Veuillez entrer une chaîne de caractères :  amina\n"
     ]
    },
    {
     "name": "stdout",
     "output_type": "stream",
     "text": [
      "La lettre 'a' est présente dans la chaîne à la position(s) : 0, 4.\n"
     ]
    }
   ],
   "source": [
    "# Demander à l'utilisateur de saisir une chaîne de caractères\n",
    "s = input(\"Veuillez entrer une chaîne de caractères : \")\n",
    "\n",
    "# Vérifier si la lettre 'a' est dans la chaîne et obtenir sa position\n",
    "positions = [i for i, caractere in enumerate(s) if caractere == 'a']\n",
    "\n",
    "# Afficher le résultat\n",
    "if positions:\n",
    "    print(f\"La lettre 'a' est présente dans la chaîne à la position(s) : {', '.join(map(str, positions))}.\")\n",
    "else:\n",
    "    print(\"La lettre 'a' n'est pas présente dans la chaîne.\")"
   ]
  },
  {
   "cell_type": "code",
   "execution_count": 9,
   "id": "2565b1dc-c6fe-43c6-af7c-952c5d0180ff",
   "metadata": {},
   "outputs": [
    {
     "name": "stdout",
     "output_type": "stream",
     "text": [
      "laptop : 6 caractères\n",
      "iphone : 6 caractères\n",
      "tablettes : 9 caractères\n"
     ]
    }
   ],
   "source": [
    "# Définir la liste des éléments\n",
    "liste = [\"laptop\", \"iphone\", \"tablettes\"]\n",
    "\n",
    "# Parcourir et afficher chaque élément avec sa longueur\n",
    "for item in liste:\n",
    "    print(f\"{item} : {len(item)} caractères\")"
   ]
  },
  {
   "cell_type": "code",
   "execution_count": 11,
   "id": "8009e607-7e90-4e77-bc08-bea66567281a",
   "metadata": {},
   "outputs": [
    {
     "name": "stdin",
     "output_type": "stream",
     "text": [
      "Veuillez entrer une chaîne de caractères :  boukar\n"
     ]
    },
    {
     "name": "stdout",
     "output_type": "stream",
     "text": [
      "La nouvelle chaîne après échange est : roukab\n"
     ]
    }
   ],
   "source": [
    "# Demander à l'utilisateur de saisir une chaîne de caractères\n",
    "s = input(\"Veuillez entrer une chaîne de caractères : \")\n",
    "\n",
    "# Vérifier que la chaîne a au moins deux caractères\n",
    "if len(s) < 2:\n",
    "    print(\"La chaîne doit contenir au moins deux caractères pour effectuer l'échange.\")\n",
    "else:\n",
    "    # Échanger le premier et le dernier caractère\n",
    "    nouvelle_chaine = s[-1] + s[1:-1] + s[0]\n",
    "    print(\"La nouvelle chaîne après échange est :\", nouvelle_chaine)"
   ]
  },
  {
   "cell_type": "code",
   "execution_count": 13,
   "id": "b04b5021-c1cd-40de-9dc5-725365926453",
   "metadata": {},
   "outputs": [
    {
     "name": "stdin",
     "output_type": "stream",
     "text": [
      "Veuillez entrer une chaîne de caractères :  amina\n"
     ]
    },
    {
     "name": "stdout",
     "output_type": "stream",
     "text": [
      "La chaîne est : 'amina'\n",
      "Le nombre de voyelles dans la chaîne est : 3\n"
     ]
    }
   ],
   "source": [
    "# Demander à l'utilisateur de saisir une chaîne de caractères\n",
    "s = input(\"Veuillez entrer une chaîne de caractères : \")\n",
    "\n",
    "# Définir les voyelles\n",
    "voyelles = \"aeiouyAEIOUY\"\n",
    "\n",
    "# Initialiser le compteur de voyelles\n",
    "compteur_voyelles = 0\n",
    "\n",
    "# Parcourir chaque caractère de la chaîne\n",
    "for caractere in s:\n",
    "    if caractere in voyelles:\n",
    "        compteur_voyelles += 1\n",
    "\n",
    "# Afficher le nom de la chaîne et le nombre de voyelles\n",
    "print(f\"La chaîne est : '{s}'\")\n",
    "print(f\"Le nombre de voyelles dans la chaîne est : {compteur_voyelles}\")"
   ]
  },
  {
   "cell_type": "code",
   "execution_count": 15,
   "id": "d835a435-72c2-4d4f-9133-50335d950754",
   "metadata": {},
   "outputs": [
    {
     "name": "stdin",
     "output_type": "stream",
     "text": [
      "Veuillez entrer un texte :  moi c'est amina et je suis trop belle et intelligente je suis une olivia pop\n"
     ]
    },
    {
     "name": "stdout",
     "output_type": "stream",
     "text": [
      "Le premier mot est : 'moi'\n"
     ]
    }
   ],
   "source": [
    "# Demander à l'utilisateur de saisir un texte\n",
    "texte = input(\"Veuillez entrer un texte : \")\n",
    "\n",
    "# Séparer le texte en mots\n",
    "mots = texte.split()\n",
    "\n",
    "# Vérifier si le texte contient des mots\n",
    "if mots:\n",
    "    premier_mot = mots[0]\n",
    "    print(f\"Le premier mot est : '{premier_mot}'\")\n",
    "else:\n",
    "    print(\"Aucun mot n'a été saisi.\")"
   ]
  },
  {
   "cell_type": "code",
   "execution_count": 19,
   "id": "59b8a43e-acb7-4a03-b901-1ef714dcdfea",
   "metadata": {},
   "outputs": [
    {
     "name": "stdin",
     "output_type": "stream",
     "text": [
      "Veuillez entrer le nom d'un fichier :  amina.exe\n"
     ]
    },
    {
     "name": "stdout",
     "output_type": "stream",
     "text": [
      "L'extension de ce fichier est : .exe\n"
     ]
    }
   ],
   "source": [
    "# Demander à l'utilisateur de saisir le nom d'un fichier\n",
    "nom_fichier = input(\"Veuillez entrer le nom d'un fichier : \")\n",
    "\n",
    "# Vérifier si le nom de fichier contient un point\n",
    "if '.' in nom_fichier:\n",
    "    # Extraire l'extension\n",
    "    extension = nom_fichier.split('.')[-1]\n",
    "    print(f\"L'extension de ce fichier est : .{extension}\")\n",
    "else:\n",
    "    print(\"Le fichier n'a pas d'extension.\")"
   ]
  },
  {
   "cell_type": "code",
   "execution_count": 21,
   "id": "a8ac7101-b32b-4e2d-83db-e4bb146bdedd",
   "metadata": {},
   "outputs": [
    {
     "name": "stdin",
     "output_type": "stream",
     "text": [
      "Veuillez entrer un mot :  laval\n"
     ]
    },
    {
     "name": "stdout",
     "output_type": "stream",
     "text": [
      "'laval' est un palindrome.\n"
     ]
    }
   ],
   "source": [
    "# Demander à l'utilisateur de saisir un mot\n",
    "mot = input(\"Veuillez entrer un mot : \")\n",
    "\n",
    "# Vérifier si le mot est un palindrome\n",
    "if mot == mot[::-1]:\n",
    "    print(f\"'{mot}' est un palindrome.\")\n",
    "else:\n",
    "    print(f\"'{mot}' n'est pas un palindrome.\")"
   ]
  },
  {
   "cell_type": "code",
   "execution_count": 23,
   "id": "ce78df25-53e0-469c-9320-40921ffad99c",
   "metadata": {},
   "outputs": [
    {
     "name": "stdin",
     "output_type": "stream",
     "text": [
      "Veuillez entrer un mot :  amina\n"
     ]
    },
    {
     "name": "stdout",
     "output_type": "stream",
     "text": [
      "L'inverse de 'amina' est 'anima'.\n"
     ]
    }
   ],
   "source": [
    "# Demander à l'utilisateur de saisir un mot\n",
    "mot = input(\"Veuillez entrer un mot : \")\n",
    "\n",
    "# Inverser le mot\n",
    "mot_inverse = mot[::-1]\n",
    "\n",
    "# Afficher le mot inversé\n",
    "print(f\"L'inverse de '{mot}' est '{mot_inverse}'.\")"
   ]
  },
  {
   "cell_type": "code",
   "execution_count": 27,
   "id": "c595d600-ed92-4961-870d-efdca5187ec5",
   "metadata": {},
   "outputs": [
    {
     "name": "stdin",
     "output_type": "stream",
     "text": [
      "Veuillez entrer un texte :  mmmmlkjh aazer vgyua azertg azedcfgb uhb vf azerfv azergb \n"
     ]
    },
    {
     "name": "stdout",
     "output_type": "stream",
     "text": [
      "Les mots qui commencent par 'a' sont :\n",
      "aazer\n",
      "azertg\n",
      "azedcfgb\n",
      "azerfv\n",
      "azergb\n"
     ]
    }
   ],
   "source": [
    "# Demander à l'utilisateur de saisir un texte\n",
    "texte = input(\"Veuillez entrer un texte : \")\n",
    "\n",
    "# Séparer le texte en mots\n",
    "mots = texte.split()\n",
    "\n",
    "# Filtrer les mots qui commencent par 'a' ou 'A'\n",
    "mots_a = [mot for mot in mots if mot.lower().startswith('a')]\n",
    "\n",
    "# Afficher les mots trouvés\n",
    "if mots_a:\n",
    "    print(\"Les mots qui commencent par 'a' sont :\")\n",
    "    for mot in mots_a:\n",
    "        print(mot)\n",
    "else:\n",
    "    print(\"Aucun mot ne commence par 'a'.\")"
   ]
  },
  {
   "cell_type": "code",
   "execution_count": 29,
   "id": "152030e1-76c4-497d-82f4-a934e3e59f37",
   "metadata": {},
   "outputs": [
    {
     "name": "stdout",
     "output_type": "stream",
     "text": [
      "La somme des éléments de la liste [1, 2, 3, 4, 5] est : 15\n"
     ]
    }
   ],
   "source": [
    "def somme_liste(liste):\n",
    "    \"\"\"Calcule la somme des éléments d'une liste de nombres.\"\"\"\n",
    "    return sum(liste)\n",
    "\n",
    "# Exemple d'utilisation\n",
    "nombres = [1, 2, 3, 4, 5]  \n",
    "resultat = somme_liste(nombres)\n",
    "print(f\"La somme des éléments de la liste {nombres} est : {resultat}\")"
   ]
  },
  {
   "cell_type": "code",
   "execution_count": 37,
   "id": "4e70ec54-ee91-45c5-b30c-bc12cbb7ef84",
   "metadata": {},
   "outputs": [
    {
     "name": "stdout",
     "output_type": "stream",
     "text": [
      "La liste est vide.\n"
     ]
    }
   ],
   "source": [
    "def est_liste_vide(liste):\n",
    "    \"\"\"Vérifie si une liste est vide.\"\"\"\n",
    "    return len(liste) == 0\n",
    "\n",
    "# Exemple d'utilisation pour tester si une liste est vide\n",
    "liste_test = []  # Liste vide\n",
    "if est_liste_vide(liste_test):\n",
    "    print(\"La liste est vide.\")\n",
    "else:\n",
    "    print(\"La liste n'est pas vide.\")\n"
   ]
  },
  {
   "cell_type": "code",
   "execution_count": 39,
   "id": "e583e65d-3e37-4aed-a658-ca08623498e9",
   "metadata": {},
   "outputs": [
    {
     "name": "stdout",
     "output_type": "stream",
     "text": [
      "La chaîne est vide.\n"
     ]
    }
   ],
   "source": [
    "def est_chaine_vide(chaine):\n",
    "    \"\"\"Vérifie si une chaîne de caractères est vide.\"\"\"\n",
    "    return len(chaine) == 0\n",
    "\n",
    "# Exemple d'utilisation pour tester si une chaîne est vide\n",
    "chaine_test = \"\"  # Chaîne vide\n",
    "if est_chaine_vide(chaine_test):\n",
    "    print(\"La chaîne est vide.\")\n",
    "else:\n",
    "    print(\"La chaîne n'est pas vide.\")"
   ]
  },
  {
   "cell_type": "code",
   "execution_count": 43,
   "id": "29864aab-a868-4a66-8768-6f682e436c7c",
   "metadata": {},
   "outputs": [
    {
     "name": "stdout",
     "output_type": "stream",
     "text": [
      "Liste d'origine : [1, 2, 2, 3, 4, 4, 5, 1]\n",
      "Liste sans doublons : [1, 2, 3, 4, 5]\n"
     ]
    }
   ],
   "source": [
    "def supprimer_doublons(liste):\n",
    "    \"\"\"Supprime les éléments dupliqués d'une liste.\"\"\"\n",
    "    return list(dict.fromkeys(liste))\n",
    "\n",
    "# Exemple d'utilisation\n",
    "liste_test = [1, 2, 2, 3, 4, 4, 5, 1]\n",
    "liste_sans_doublons = supprimer_doublons(liste_test)\n",
    "print(f\"Liste d'origine : {liste_test}\")\n",
    "print(f\"Liste sans doublons : {liste_sans_doublons}\")"
   ]
  },
  {
   "cell_type": "code",
   "execution_count": 45,
   "id": "f959ed43-78bb-4a99-937a-0d7e7c4a63d6",
   "metadata": {},
   "outputs": [
    {
     "name": "stdout",
     "output_type": "stream",
     "text": [
      "Les listes ont des valeurs en commun : {4, 5}\n"
     ]
    }
   ],
   "source": [
    "def comparer_listes(liste1, liste2):\n",
    "    \"\"\"Compare deux listes et indique si elles ont des valeurs en commun.\"\"\"\n",
    "    communs = set(liste1) & set(liste2)  # Intersection des deux listes\n",
    "    return communs\n",
    "\n",
    "# Exemple d'utilisation\n",
    "liste_a = [1, 2, 3, 4, 5]\n",
    "liste_b = [4, 5, 6, 7, 8]\n",
    "\n",
    "valeurs_communes = comparer_listes(liste_a, liste_b)\n",
    "\n",
    "if valeurs_communes:\n",
    "    print(f\"Les listes ont des valeurs en commun : {valeurs_communes}\")\n",
    "else:\n",
    "    print(\"Les listes n'ont pas de valeurs en commun.\")"
   ]
  },
  {
   "cell_type": "code",
   "execution_count": 47,
   "id": "9900b76c-e7ad-45f9-b90c-153e2eaa4e21",
   "metadata": {},
   "outputs": [
    {
     "name": "stdout",
     "output_type": "stream",
     "text": [
      "Liste des entiers pairs : [2, 4, 6, 8, 10]\n",
      "Liste des entiers impairs : [1, 3, 5, 7, 9]\n"
     ]
    }
   ],
   "source": [
    "def extraire_pairs_impairs(liste):\n",
    "    \"\"\"Extrait les entiers pairs et impairs d'une liste de nombres.\"\"\"\n",
    "    pairs = [num for num in liste if num % 2 == 0]\n",
    "    impairs = [num for num in liste if num % 2 != 0]\n",
    "    return pairs, impairs\n",
    "\n",
    "# Exemple d'utilisation\n",
    "liste_nombres = [1, 2, 3, 4, 5, 6, 7, 8, 9, 10]\n",
    "\n",
    "pairs, impairs = extraire_pairs_impairs(liste_nombres)\n",
    "\n",
    "print(f\"Liste des entiers pairs : {pairs}\")\n",
    "print(f\"Liste des entiers impairs : {impairs}\")"
   ]
  },
  {
   "cell_type": "code",
   "execution_count": 49,
   "id": "4c64ce1b-e034-490f-b1b2-6af4f0b9cae4",
   "metadata": {},
   "outputs": [
    {
     "name": "stdout",
     "output_type": "stream",
     "text": [
      "Toutes les permutations de la liste : [1, 2, 3]\n",
      "(1, 2, 3)\n",
      "(1, 3, 2)\n",
      "(2, 1, 3)\n",
      "(2, 3, 1)\n",
      "(3, 1, 2)\n",
      "(3, 2, 1)\n"
     ]
    }
   ],
   "source": [
    "import itertools\n",
    "\n",
    "def generer_permutations(liste):\n",
    "    \"\"\"Génère toutes les permutations d'une liste.\"\"\"\n",
    "    return list(itertools.permutations(liste))\n",
    "\n",
    "# Exemple d'utilisation\n",
    "liste_nombres = [1, 2, 3]  \n",
    "\n",
    "permutations = generer_permutations(liste_nombres)\n",
    "\n",
    "# Afficher les permutations\n",
    "print(\"Toutes les permutations de la liste :\", liste_nombres)\n",
    "for perm in permutations:\n",
    "    print(perm)"
   ]
  },
  {
   "cell_type": "code",
   "execution_count": 51,
   "id": "21627c58-a657-46d3-82a6-cb1644c944a4",
   "metadata": {},
   "outputs": [
    {
     "name": "stdin",
     "output_type": "stream",
     "text": [
      "Veuillez entrer une chaîne de caractères :  demain\n"
     ]
    },
    {
     "name": "stdout",
     "output_type": "stream",
     "text": [
      "Les caractères d'indices pairs sont : 'dmi'\n"
     ]
    }
   ],
   "source": [
    "# Demander à l'utilisateur de saisir une chaîne de caractères\n",
    "chaine = input(\"Veuillez entrer une chaîne de caractères : \")\n",
    "\n",
    "# Extraire les caractères d'indices pairs\n",
    "caracteres_pairs = chaine[::2]  # Prend chaque deuxième caractère à partir de l'indice 0\n",
    "\n",
    "# Afficher le résultat\n",
    "print(f\"Les caractères d'indices pairs sont : '{caracteres_pairs}'\")"
   ]
  },
  {
   "cell_type": "code",
   "execution_count": 53,
   "id": "b6d23839-3df4-484c-98e5-5d0e58c1d97e",
   "metadata": {},
   "outputs": [
    {
     "name": "stdout",
     "output_type": "stream",
     "text": [
      "La moyenne des notes est : 11.14\n",
      "Les notes au-dessus de la moyenne sont : [12, 14, 18, 13, 15, 14, 16]\n"
     ]
    }
   ],
   "source": [
    "# Liste des notes\n",
    "notes = [12, 4, 14, 11, 18, 13, 7, 10, 5, 9, 15, 8, 14, 16]\n",
    "\n",
    "# Calculer la moyenne\n",
    "moyenne = sum(notes) / len(notes)\n",
    "\n",
    "# Extraire les notes supérieures à la moyenne\n",
    "notes_superieures = [note for note in notes if note > moyenne]\n",
    "\n",
    "# Afficher la moyenne et les notes supérieures\n",
    "print(f\"La moyenne des notes est : {moyenne:.2f}\")\n",
    "print(f\"Les notes au-dessus de la moyenne sont : {notes_superieures}\")"
   ]
  },
  {
   "cell_type": "code",
   "execution_count": 55,
   "id": "5e22c3e9-8d77-4eb7-900a-12e2cd8d0ba5",
   "metadata": {},
   "outputs": [
    {
     "name": "stdin",
     "output_type": "stream",
     "text": [
      "Veuillez entrer une adresse URL :  http://amina.com\n"
     ]
    },
    {
     "name": "stdout",
     "output_type": "stream",
     "text": [
      "Lien ouvert : http://amina.com\n"
     ]
    }
   ],
   "source": [
    "import webbrowser\n",
    "\n",
    "# Demander à l'utilisateur de saisir une adresse URL\n",
    "url = input(\"Veuillez entrer une adresse URL : \")\n",
    "\n",
    "# Vérifier si l'URL commence par 'http://' ou 'https://'\n",
    "if not url.startswith(('http://', 'https://')):\n",
    "    url = 'http://' + url  # Ajouter 'http://' par défaut\n",
    "\n",
    "# Ouvrir l'URL dans le navigateur\n",
    "webbrowser.open(url)\n",
    "\n",
    "print(f\"Lien ouvert : {url}\")"
   ]
  },
  {
   "cell_type": "code",
   "execution_count": 63,
   "id": "48299d29-e5b1-4754-bb84-e2ac1261cbd1",
   "metadata": {},
   "outputs": [
    {
     "name": "stdin",
     "output_type": "stream",
     "text": [
      "Veuillez entrer une chaîne de caractères :  amina    est    intelligente      \n"
     ]
    },
    {
     "name": "stdout",
     "output_type": "stream",
     "text": [
      "Chaîne originale : 'amina    est    intelligente      '\n",
      "Chaîne sans espaces multiples : 'amina est intelligente'\n"
     ]
    }
   ],
   "source": [
    "def supprimer_espaces_multiples(chaine):\n",
    "    \"\"\"Supprime les espaces multiples dans une chaîne.\"\"\"\n",
    "    # Utiliser split() et join() pour normaliser les espaces\n",
    "    return ' '.join(chaine.split())\n",
    "\n",
    "# Exemple d'utilisation\n",
    "chaine_originale = input(\"Veuillez entrer une chaîne de caractères : \")\n",
    "chaine_modifiee = supprimer_espaces_multiples(chaine_originale)\n",
    "\n",
    "print(f\"Chaîne originale : '{chaine_originale}'\")\n",
    "print(f\"Chaîne sans espaces multiples : '{chaine_modifiee}'\")"
   ]
  },
  {
   "cell_type": "code",
   "execution_count": 65,
   "id": "75fc117c-2188-44a6-928f-4cfe77e310cf",
   "metadata": {},
   "outputs": [
    {
     "name": "stdin",
     "output_type": "stream",
     "text": [
      "Veuillez entrer la première chaîne de caractères :  BONJOUR AMINA\n",
      "Veuillez entrer la deuxième chaîne de caractères :  BONJOUR M.BOUKAR\n"
     ]
    },
    {
     "name": "stdout",
     "output_type": "stream",
     "text": [
      "Les mots communs sont : BONJOUR\n"
     ]
    }
   ],
   "source": [
    "def mots_communs(s1, s2):\n",
    "    \"\"\"Retourne les mots communs entre deux chaînes de caractères.\"\"\"\n",
    "    # Convertir les chaînes en ensembles de mots\n",
    "    mots1 = set(s1.split())\n",
    "    mots2 = set(s2.split())\n",
    "    \n",
    "    # Trouver l'intersection des deux ensembles\n",
    "    communs = mots1.intersection(mots2)\n",
    "    \n",
    "    return communs\n",
    "\n",
    "# Exemple d'utilisation\n",
    "s1 = input(\"Veuillez entrer la première chaîne de caractères : \")\n",
    "s2 = input(\"Veuillez entrer la deuxième chaîne de caractères : \")\n",
    "\n",
    "communs = mots_communs(s1, s2)\n",
    "\n",
    "if communs:\n",
    "    print(f\"Les mots communs sont : {', '.join(communs)}\")\n",
    "else:\n",
    "    print(\"Aucun mot commun trouvé.\")"
   ]
  },
  {
   "cell_type": "code",
   "execution_count": null,
   "id": "96b340e8-a6f5-4f1d-8647-1a6a16ddcdd8",
   "metadata": {},
   "outputs": [],
   "source": [
    "chaine = input(\"Veuillez entrer une chaîne de caractères : \")\n",
    "longest_word = mot_plus_long(chaine)\n",
    "\n",
    "print(f\"Le mot le plus long est : '{longest_word}'\")"
   ]
  }
 ],
 "metadata": {
  "kernelspec": {
   "display_name": "Python 3 (ipykernel)",
   "language": "python",
   "name": "python3"
  },
  "language_info": {
   "codemirror_mode": {
    "name": "ipython",
    "version": 3
   },
   "file_extension": ".py",
   "mimetype": "text/x-python",
   "name": "python",
   "nbconvert_exporter": "python",
   "pygments_lexer": "ipython3",
   "version": "3.12.7"
  }
 },
 "nbformat": 4,
 "nbformat_minor": 5
}

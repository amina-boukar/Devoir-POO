{
 "cells": [
  {
   "cell_type": "code",
   "execution_count": 3,
   "id": "656a69a5-466d-4ecd-be8f-3c6afc5e490a",
   "metadata": {},
   "outputs": [
    {
     "name": "stdin",
     "output_type": "stream",
     "text": [
      "Veuillez entrer une chaîne de caractères :  amina is very smart\n"
     ]
    },
    {
     "name": "stdout",
     "output_type": "stream",
     "text": [
      "Le mot le plus long est : 'amina'\n"
     ]
    }
   ],
   "source": [
    "def mot_plus_long(chaine):\n",
    "    \"\"\"Retourne le mot le plus long dans une chaîne.\"\"\"\n",
    "    mots = chaine.split()  # Séparer la chaîne en mots\n",
    "    # Trouver le mot le plus long\n",
    "    longest_word = max(mots, key=len)\n",
    "    return longest_word\n",
    "\n",
    "# Exemple d'utilisation\n",
    "chaine = input(\"Veuillez entrer une chaîne de caractères : \")\n",
    "longest_word = mot_plus_long(chaine)\n",
    "\n",
    "print(f\"Le mot le plus long est : '{longest_word}'\")"
   ]
  },
  {
   "cell_type": "code",
   "execution_count": 5,
   "id": "a4f27bc2-25d9-4659-a954-89c356026659",
   "metadata": {},
   "outputs": [
    {
     "name": "stdin",
     "output_type": "stream",
     "text": [
      "Veuillez entrer une chaîne de caractères :  j'ecris mon premier programme python\n"
     ]
    },
    {
     "name": "stdout",
     "output_type": "stream",
     "text": [
      "Le nombre de mots dans la chaîne est : 5\n"
     ]
    }
   ],
   "source": [
    "def compter_mots(chaine):\n",
    "    \"\"\"Compte le nombre de mots dans une chaîne.\"\"\"\n",
    "    # Séparer la chaîne en mots en utilisant les espaces\n",
    "    mots = chaine.split()\n",
    "    return len(mots)\n",
    "\n",
    "# Exemple d'utilisation\n",
    "chaine = input(\"Veuillez entrer une chaîne de caractères : \")\n",
    "nombre_de_mots = compter_mots(chaine)\n",
    "\n",
    "print(f\"Le nombre de mots dans la chaîne est : {nombre_de_mots}\")"
   ]
  },
  {
   "cell_type": "code",
   "execution_count": 7,
   "id": "ec254a46-3548-4980-bffd-e09dced40b06",
   "metadata": {},
   "outputs": [
    {
     "name": "stdin",
     "output_type": "stream",
     "text": [
      "Veuillez entrer une chaîne de caractères :  aujourd'huit c'est vendredi un jour de la semaine très spécial\n"
     ]
    },
    {
     "name": "stdout",
     "output_type": "stream",
     "text": [
      "Texte modifié : 'spécial c'est vendredi un jour de la semaine très aujourd'huit'\n"
     ]
    }
   ],
   "source": [
    "def echanger_premier_dernier(chaine):\n",
    "    \"\"\"Échange le premier et le dernier mot d'une chaîne.\"\"\"\n",
    "    mots = chaine.split()  # Séparer la chaîne en mots\n",
    "    \n",
    "    # Vérifier s'il y a au moins deux mots\n",
    "    if len(mots) < 2:\n",
    "        return chaine  # Pas d'échange possible\n",
    "    \n",
    "    # Échanger le premier et le dernier mot\n",
    "    mots[0], mots[-1] = mots[-1], mots[0]\n",
    "    \n",
    "    # Rejoindre les mots pour former la nouvelle chaîne\n",
    "    return ' '.join(mots)\n",
    "\n",
    "# Exemple d'utilisation\n",
    "texte = input(\"Veuillez entrer une chaîne de caractères : \")\n",
    "texte_modifie = echanger_premier_dernier(texte)\n",
    "\n",
    "print(f\"Texte modifié : '{texte_modifie}'\")"
   ]
  },
  {
   "cell_type": "code",
   "execution_count": 9,
   "id": "c2d8fe35-2430-42f9-97d0-07e3b18c0d6e",
   "metadata": {},
   "outputs": [
    {
     "name": "stdin",
     "output_type": "stream",
     "text": [
      "Veuillez entrer un entier n :  11\n"
     ]
    },
    {
     "name": "stdout",
     "output_type": "stream",
     "text": [
      "Le nombre d'éléments divisibles par 11 est : 0\n"
     ]
    }
   ],
   "source": [
    "def nombreDivisible(liste, n):\n",
    "    \"\"\"Renvoie le nombre d'éléments de la liste qui sont divisibles par n.\"\"\"\n",
    "    return sum(1 for nombre in liste if nombre % n == 0)\n",
    "\n",
    "# Exemple d'utilisation\n",
    "liste_nombres = [10, 15, 20, 25, 30, 35, 40]\n",
    "n = int(input(\"Veuillez entrer un entier n : \"))\n",
    "\n",
    "resultat = nombreDivisible(liste_nombres, n)\n",
    "print(f\"Le nombre d'éléments divisibles par {n} est : {resultat}\")"
   ]
  },
  {
   "cell_type": "code",
   "execution_count": 11,
   "id": "6f504d31-c514-48c8-9c95-728b5d4ffe09",
   "metadata": {},
   "outputs": [
    {
     "name": "stdin",
     "output_type": "stream",
     "text": [
      "Veuillez entrer l'élément à rechercher :  3\n"
     ]
    },
    {
     "name": "stdout",
     "output_type": "stream",
     "text": [
      "L'élément 3 apparaît 1 fois dans la liste.\n"
     ]
    }
   ],
   "source": [
    "def nombre_occurrences(L, x):\n",
    "    \"\"\"Renvoie le nombre d'occurrences de l'élément x dans la liste L.\"\"\"\n",
    "    compteur = 0  # Initialiser le compteur\n",
    "    for element in L:\n",
    "        if element == x:\n",
    "            compteur += 1  # Incrémenter le compteur si x est trouvé\n",
    "    return compteur\n",
    "\n",
    "# Exemple d'utilisation\n",
    "liste = [1, 2, 3, 4, 2, 5, 2, 6]\n",
    "x = int(input(\"Veuillez entrer l'élément à rechercher : \"))\n",
    "\n",
    "resultat = nombre_occurrences(liste, x)\n",
    "print(f\"L'élément {x} apparaît {resultat} fois dans la liste.\")"
   ]
  },
  {
   "cell_type": "code",
   "execution_count": 13,
   "id": "ce1afd44-5886-4ab5-912c-ed4820ec9cf4",
   "metadata": {},
   "outputs": [
    {
     "name": "stdin",
     "output_type": "stream",
     "text": [
      "Veuillez entrer une chaîne de caractères :  amina\n"
     ]
    },
    {
     "name": "stdout",
     "output_type": "stream",
     "text": [
      "Chaîne modifiée : 'a*m*i*n*a'\n"
     ]
    }
   ],
   "source": [
    "def InsertEtoile(chaine):\n",
    "    \"\"\"Insère des étoiles entre chaque caractère de la chaîne.\"\"\"\n",
    "    return '*'.join(chaine)\n",
    "\n",
    "# Exemple d'utilisation\n",
    "chaine = input(\"Veuillez entrer une chaîne de caractères : \")\n",
    "chaine_modifiee = InsertEtoile(chaine)\n",
    "\n",
    "print(f\"Chaîne modifiée : '{chaine_modifiee}'\")"
   ]
  },
  {
   "cell_type": "code",
   "execution_count": 15,
   "id": "233f22d4-b4a7-48cc-b9a6-1aa9a5c24d3a",
   "metadata": {},
   "outputs": [
    {
     "name": "stdin",
     "output_type": "stream",
     "text": [
      "Veuillez entrer une chaîne de caractères :  la femme c'est la plus belle des creatures\n"
     ]
    },
    {
     "name": "stdout",
     "output_type": "stream",
     "text": [
      "Chaîne en majuscules : 'LA FEMME C'EST LA PLUS BELLE DES CREATURES'\n"
     ]
    }
   ],
   "source": [
    "def majuscule(chaine):\n",
    "    \"\"\"Transforme une chaîne de caractères en majuscules.\"\"\"\n",
    "    return chaine.upper()\n",
    "\n",
    "# Exemple d'utilisation\n",
    "chaine = input(\"Veuillez entrer une chaîne de caractères : \")\n",
    "chaine_en_majuscules = majuscule(chaine)\n",
    "\n",
    "print(f\"Chaîne en majuscules : '{chaine_en_majuscules}'\")"
   ]
  },
  {
   "cell_type": "code",
   "execution_count": 17,
   "id": "93470121-c344-4fe9-8659-fb65a17ff54c",
   "metadata": {},
   "outputs": [
    {
     "name": "stdin",
     "output_type": "stream",
     "text": [
      "Veuillez entrer une chaîne de caractères :  Yaoundé c'est la capitale POLITIQUE du cameroun\n"
     ]
    },
    {
     "name": "stdout",
     "output_type": "stream",
     "text": [
      "Nombre de majuscules : 10\n",
      "Nombre de minuscules : 30\n"
     ]
    }
   ],
   "source": [
    "def compter_majuscules_minuscules(chaine):\n",
    "    \"\"\"Compte le nombre de lettres majuscules et minuscules dans une chaîne.\"\"\"\n",
    "    compteur_majuscules = sum(1 for char in chaine if char.isupper())\n",
    "    compteur_minuscules = sum(1 for char in chaine if char.islower())\n",
    "    return compteur_majuscules, compteur_minuscules\n",
    "\n",
    "# Exemple d'utilisation\n",
    "chaine = input(\"Veuillez entrer une chaîne de caractères : \")\n",
    "maj, min = compter_majuscules_minuscules(chaine)\n",
    "\n",
    "print(f\"Nombre de majuscules : {maj}\")\n",
    "print(f\"Nombre de minuscules : {min}\")"
   ]
  },
  {
   "cell_type": "code",
   "execution_count": 19,
   "id": "157d5d16-5024-44fc-8451-8e3bafa637fe",
   "metadata": {},
   "outputs": [
    {
     "name": "stdin",
     "output_type": "stream",
     "text": [
      "Veuillez entrer un nombre entier :  2\n"
     ]
    },
    {
     "name": "stdout",
     "output_type": "stream",
     "text": [
      "Les chiffres du nombre sont : [2]\n"
     ]
    }
   ],
   "source": [
    "def extraire_chiffres(nombre):\n",
    "    \"\"\"Renvoie une liste des chiffres d'un nombre en base 10.\"\"\"\n",
    "    chiffres = []\n",
    "    \n",
    "    while nombre > 0:\n",
    "        # Extraire le dernier chiffre\n",
    "        dernier_chiffre = nombre % 10\n",
    "        # Ajouter le chiffre à la liste\n",
    "        chiffres.append(dernier_chiffre)\n",
    "        # Enlever le dernier chiffre du nombre\n",
    "        nombre //= 10\n",
    "    \n",
    "    # Inverser la liste pour obtenir l'ordre correct des chiffres\n",
    "    chiffres.reverse()\n",
    "    \n",
    "    return chiffres\n",
    "\n",
    "# Exemple d'utilisation\n",
    "nombre = int(input(\"Veuillez entrer un nombre entier : \"))\n",
    "liste_chiffres = extraire_chiffres(nombre)\n",
    "\n",
    "print(f\"Les chiffres du nombre sont : {liste_chiffres}\")"
   ]
  },
  {
   "cell_type": "code",
   "execution_count": 21,
   "id": "cadd1330-bdfb-4ae1-a35f-86b853db5b74",
   "metadata": {},
   "outputs": [
    {
     "name": "stdin",
     "output_type": "stream",
     "text": [
      "Veuillez entrer le premier texte :  le cameroun est un pays dmocratique\n",
      "Veuillez entrer le deuxième texte :  la democratie est le pouvoir du peuple par le peuple et pour le peuple\n"
     ]
    },
    {
     "name": "stdout",
     "output_type": "stream",
     "text": [
      "Les mots communs sont : le, est\n"
     ]
    }
   ],
   "source": [
    "def mots_communs(texte1, texte2):\n",
    "    \"\"\"Retourne une liste des mots communs entre deux textes.\"\"\"\n",
    "    # Convertir les textes en ensembles de mots\n",
    "    mots1 = set(texte1.split())\n",
    "    mots2 = set(texte2.split())\n",
    "\n",
    "    # Trouver l'intersection des deux ensembles\n",
    "    communs = mots1.intersection(mots2)\n",
    "\n",
    "    return list(communs)\n",
    "\n",
    "# Exemple d'utilisation\n",
    "texte1 = input(\"Veuillez entrer le premier texte : \")\n",
    "texte2 = input(\"Veuillez entrer le deuxième texte : \")\n",
    "\n",
    "communs = mots_communs(texte1, texte2)\n",
    "\n",
    "if communs:\n",
    "    print(f\"Les mots communs sont : {', '.join(communs)}\")\n",
    "else:\n",
    "    print(\"Aucun mot commun trouvé.\")"
   ]
  },
  {
   "cell_type": "code",
   "execution_count": null,
   "id": "6e308ba0-f0c8-4e70-b965-6e354d48972f",
   "metadata": {},
   "outputs": [],
   "source": []
  }
 ],
 "metadata": {
  "kernelspec": {
   "display_name": "Python 3 (ipykernel)",
   "language": "python",
   "name": "python3"
  },
  "language_info": {
   "codemirror_mode": {
    "name": "ipython",
    "version": 3
   },
   "file_extension": ".py",
   "mimetype": "text/x-python",
   "name": "python",
   "nbconvert_exporter": "python",
   "pygments_lexer": "ipython3",
   "version": "3.12.7"
  }
 },
 "nbformat": 4,
 "nbformat_minor": 5
}

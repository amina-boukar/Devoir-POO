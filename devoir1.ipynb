{
 "cells": [
  {
   "cell_type": "code",
   "execution_count": 2,
   "id": "77227624-9a59-4bcf-94b3-690e038ca03b",
   "metadata": {},
   "outputs": [
    {
     "name": "stdin",
     "output_type": "stream",
     "text": [
      "Veuillez entrer votre nom :  amina\n"
     ]
    },
    {
     "name": "stdout",
     "output_type": "stream",
     "text": [
      "Bienvenue, amina !\n"
     ]
    }
   ],
   "source": [
    "# Demander à l'utilisateur d'entrer son nom\n",
    "nom = input(\"Veuillez entrer votre nom : \")\n",
    "\n",
    "# Afficher le message de bienvenue\n",
    "print(f\"Bienvenue, {nom} !\")"
   ]
  },
  {
   "cell_type": "code",
   "execution_count": 4,
   "id": "26124ea7-46dd-46ab-b711-0dcf39dac647",
   "metadata": {},
   "outputs": [
    {
     "name": "stdin",
     "output_type": "stream",
     "text": [
      "Veuillez entrer le premier nombre (a) :  1\n",
      "Veuillez entrer le deuxième nombre (b) :  5\n"
     ]
    },
    {
     "name": "stdout",
     "output_type": "stream",
     "text": [
      "La somme de 1.0 et 5.0 est 6.0.\n"
     ]
    }
   ],
   "source": [
    "# Demander à l'utilisateur d'entrer le premier nombre\n",
    "a = float(input(\"Veuillez entrer le premier nombre (a) : \"))\n",
    "\n",
    "# Demander à l'utilisateur d'entrer le deuxième nombre\n",
    "b = float(input(\"Veuillez entrer le deuxième nombre (b) : \"))\n",
    "\n",
    "# Calculer la somme\n",
    "somme = a + b\n",
    "\n",
    "# Afficher la somme\n",
    "print(f\"La somme de {a} et {b} est {somme}.\")"
   ]
  },
  {
   "cell_type": "code",
   "execution_count": 6,
   "id": "0a9d8ed1-c657-4be0-a98d-c3144d8cfd0c",
   "metadata": {},
   "outputs": [
    {
     "name": "stdin",
     "output_type": "stream",
     "text": [
      "Veuillez entrer le premier nombre (a) :  2\n",
      "Veuillez entrer le deuxième nombre (b) :  8\n"
     ]
    },
    {
     "name": "stdout",
     "output_type": "stream",
     "text": [
      "Le maximum entre 2.0 et 8.0 est 8.0.\n"
     ]
    }
   ],
   "source": [
    "# Demander à l'utilisateur d'entrer le premier nombre\n",
    "a = float(input(\"Veuillez entrer le premier nombre (a) : \"))\n",
    "\n",
    "# Demander à l'utilisateur d'entrer le deuxième nombre\n",
    "b = float(input(\"Veuillez entrer le deuxième nombre (b) : \"))\n",
    "\n",
    "# Trouver le maximum\n",
    "maximum = max(a, b)\n",
    "\n",
    "# Afficher le résultat\n",
    "print(f\"Le maximum entre {a} et {b} est {maximum}.\")"
   ]
  },
  {
   "cell_type": "code",
   "execution_count": 8,
   "id": "44ad60f3-e731-4749-a5b3-c0ac170f14f1",
   "metadata": {},
   "outputs": [
    {
     "name": "stdout",
     "output_type": "stream",
     "text": [
      "1\n",
      "2\n",
      "3\n",
      "4\n",
      "5\n",
      "6\n",
      "7\n",
      "8\n",
      "9\n",
      "10\n",
      "11\n",
      "12\n",
      "13\n",
      "14\n",
      "15\n",
      "16\n",
      "17\n",
      "18\n",
      "19\n",
      "20\n",
      "21\n",
      "22\n",
      "23\n",
      "24\n",
      "25\n",
      "26\n",
      "27\n",
      "28\n",
      "29\n",
      "30\n",
      "31\n",
      "32\n",
      "33\n",
      "34\n",
      "35\n",
      "36\n",
      "37\n",
      "38\n",
      "39\n",
      "40\n",
      "41\n",
      "42\n",
      "43\n",
      "44\n",
      "45\n",
      "46\n",
      "47\n",
      "48\n",
      "49\n",
      "50\n",
      "51\n",
      "52\n",
      "53\n",
      "54\n",
      "55\n",
      "56\n",
      "57\n",
      "58\n",
      "59\n",
      "60\n",
      "61\n",
      "62\n",
      "63\n",
      "64\n",
      "65\n",
      "66\n",
      "67\n",
      "68\n",
      "69\n",
      "70\n",
      "71\n",
      "72\n",
      "73\n",
      "74\n",
      "75\n",
      "76\n",
      "77\n",
      "78\n",
      "79\n",
      "80\n",
      "81\n",
      "82\n",
      "83\n",
      "84\n",
      "85\n",
      "86\n",
      "87\n",
      "88\n",
      "89\n",
      "90\n",
      "91\n",
      "92\n",
      "93\n",
      "94\n",
      "95\n",
      "96\n",
      "97\n",
      "98\n",
      "99\n",
      "100\n"
     ]
    }
   ],
   "source": [
    "# Afficher les 100 premiers nombres entiers\n",
    "for i in range(1, 101):\n",
    "    print(i)"
   ]
  },
  {
   "cell_type": "code",
   "execution_count": 10,
   "id": "ee455f7d-1c6b-4dd9-965f-ce114d022c78",
   "metadata": {},
   "outputs": [
    {
     "name": "stdin",
     "output_type": "stream",
     "text": [
      "Veuillez entrer un nombre entier :  3\n"
     ]
    },
    {
     "name": "stdout",
     "output_type": "stream",
     "text": [
      "3 est un nombre impair.\n"
     ]
    }
   ],
   "source": [
    "# Demander à l'utilisateur d'entrer un nombre\n",
    "nombre = int(input(\"Veuillez entrer un nombre entier : \"))\n",
    "\n",
    "# Vérifier si le nombre est pair ou impair\n",
    "if nombre % 2 == 0:\n",
    "    print(f\"{nombre} est un nombre pair.\")\n",
    "else:\n",
    "    print(f\"{nombre} est un nombre impair.\")"
   ]
  },
  {
   "cell_type": "code",
   "execution_count": 12,
   "id": "9242c648-9b8d-4c94-b919-6ac0cb1162fa",
   "metadata": {},
   "outputs": [
    {
     "name": "stdin",
     "output_type": "stream",
     "text": [
      "Veuillez entrer votre âge :  20\n"
     ]
    },
    {
     "name": "stdout",
     "output_type": "stream",
     "text": [
      "Vous êtes majeur.\n"
     ]
    }
   ],
   "source": [
    "# Demander à l'utilisateur d'entrer son âge\n",
    "age = int(input(\"Veuillez entrer votre âge : \"))\n",
    "\n",
    "# Vérifier si l'utilisateur est majeur ou mineur\n",
    "if age >= 18:\n",
    "    print(\"Vous êtes majeur.\")\n",
    "else:\n",
    "    print(\"Vous êtes mineur.\")"
   ]
  },
  {
   "cell_type": "code",
   "execution_count": 14,
   "id": "b83b3b8c-d094-4c7c-9c5c-a8103db3b0c0",
   "metadata": {},
   "outputs": [
    {
     "name": "stdin",
     "output_type": "stream",
     "text": [
      "Veuillez entrer le premier nombre (x) :  12\n",
      "Veuillez entrer le deuxième nombre (y) :  5\n",
      "Veuillez entrer le troisième nombre (z) :  66\n"
     ]
    },
    {
     "name": "stdout",
     "output_type": "stream",
     "text": [
      "Le maximum entre 12.0, 5.0 et 66.0 est 66.0.\n"
     ]
    }
   ],
   "source": [
    "# Demander à l'utilisateur d'entrer trois nombres\n",
    "x = float(input(\"Veuillez entrer le premier nombre (x) : \"))\n",
    "y = float(input(\"Veuillez entrer le deuxième nombre (y) : \"))\n",
    "z = float(input(\"Veuillez entrer le troisième nombre (z) : \"))\n",
    "\n",
    "# Trouver le maximum\n",
    "maximum = max(x, y, z)\n",
    "\n",
    "# Afficher le résultat\n",
    "print(f\"Le maximum entre {x}, {y} et {z} est {maximum}.\")"
   ]
  },
  {
   "cell_type": "code",
   "execution_count": 22,
   "id": "dee52d64-d1b6-423b-b166-fa9b8e7fc54d",
   "metadata": {},
   "outputs": [
    {
     "name": "stdin",
     "output_type": "stream",
     "text": [
      "Veuillez entrer un nombre entier (n) :  12\n"
     ]
    },
    {
     "name": "stdout",
     "output_type": "stream",
     "text": [
      "La somme de 1 + 2 + 3 + 4 + 5 + 6 + 7 + 8 + 9 + 10 + 11 + 12 = 78.\n"
     ]
    }
   ],
   "source": [
    "# Demander à l'utilisateur de saisir un nombre entier\n",
    "n = int(input(\"Veuillez entrer un nombre entier (n) : \"))\n",
    "\n",
    "# Calculer la somme des entiers de 1 à n\n",
    "somme = sum(range(1, n + 1))\n",
    "\n",
    "# Créer une chaîne pour afficher la somme sous forme d'expression\n",
    "expression = \" + \".join(str(i) for i in range(1, n + 1))\n",
    "\n",
    "# Afficher la somme avec l'expression\n",
    "print(f\"La somme de {expression} = {somme}.\")"
   ]
  },
  {
   "cell_type": "code",
   "execution_count": 24,
   "id": "f94b38c0-1555-4a71-ac86-a1fe57eeda09",
   "metadata": {},
   "outputs": [
    {
     "name": "stdin",
     "output_type": "stream",
     "text": [
      "Veuillez entrer un nombre :  34\n"
     ]
    },
    {
     "name": "stdout",
     "output_type": "stream",
     "text": [
      "Vous avez entré : 34\n"
     ]
    }
   ],
   "source": [
    "# Demander à l'utilisateur de saisir un nombre\n",
    "n = input(\"Veuillez entrer un nombre : \")\n",
    "\n",
    "# Afficher le nombre saisi\n",
    "print(f\"Vous avez entré : {n}\")"
   ]
  },
  {
   "cell_type": "code",
   "execution_count": 26,
   "id": "5d0b932d-cf7f-48b4-8c07-1044f92a473b",
   "metadata": {},
   "outputs": [
    {
     "name": "stdin",
     "output_type": "stream",
     "text": [
      "Veuillez entrer le rayon du cercle :  22\n"
     ]
    },
    {
     "name": "stdout",
     "output_type": "stream",
     "text": [
      "La surface du cercle est : 1520.53\n",
      "Le périmètre du cercle est : 138.23\n"
     ]
    }
   ],
   "source": [
    "import math\n",
    "\n",
    "# Demander à l'utilisateur de saisir le rayon du cercle\n",
    "rayon = float(input(\"Veuillez entrer le rayon du cercle : \"))\n",
    "\n",
    "# Calculer la surface du cercle\n",
    "surface = math.pi * rayon ** 2\n",
    "\n",
    "# Calculer le périmètre (circonférence) du cercle\n",
    "perimetre = 2 * math.pi * rayon\n",
    "\n",
    "# Afficher les résultats\n",
    "print(f\"La surface du cercle est : {surface:.2f}\")\n",
    "print(f\"Le périmètre du cercle est : {perimetre:.2f}\")"
   ]
  },
  {
   "cell_type": "code",
   "execution_count": 28,
   "id": "e8294ea6-2fd6-43e0-b98e-bfedfc4f173b",
   "metadata": {},
   "outputs": [
    {
     "name": "stdin",
     "output_type": "stream",
     "text": [
      "Veuillez entrer un nombre entier :  44\n"
     ]
    },
    {
     "name": "stdout",
     "output_type": "stream",
     "text": [
      "Les diviseurs de 44 sont : [1, 2, 4, 11, 22, 44]\n"
     ]
    }
   ],
   "source": [
    "# Demander à l'utilisateur d'entrer un nombre\n",
    "nombre = int(input(\"Veuillez entrer un nombre entier : \"))\n",
    "\n",
    "# Initialiser une liste pour stocker les diviseurs\n",
    "diviseurs = []\n",
    "\n",
    "# Trouver les diviseurs du nombre\n",
    "for i in range(1, nombre + 1):\n",
    "    if nombre % i == 0:\n",
    "        diviseurs.append(i)\n",
    "\n",
    "# Afficher les diviseurs\n",
    "print(f\"Les diviseurs de {nombre} sont : {diviseurs}\")"
   ]
  },
  {
   "cell_type": "code",
   "execution_count": 30,
   "id": "782e323a-8407-4af7-94a1-23bac23945bf",
   "metadata": {},
   "outputs": [
    {
     "name": "stdin",
     "output_type": "stream",
     "text": [
      "Veuillez entrer un nombre entier (n) :  4\n"
     ]
    },
    {
     "name": "stdout",
     "output_type": "stream",
     "text": [
      "Table de multiplication de 4 :\n",
      "4 x 1 = 4\n",
      "4 x 2 = 8\n",
      "4 x 3 = 12\n",
      "4 x 4 = 16\n",
      "4 x 5 = 20\n",
      "4 x 6 = 24\n",
      "4 x 7 = 28\n",
      "4 x 8 = 32\n",
      "4 x 9 = 36\n",
      "4 x 10 = 40\n"
     ]
    }
   ],
   "source": [
    "# Demander à l'utilisateur de saisir un nombre entier\n",
    "n = int(input(\"Veuillez entrer un nombre entier (n) : \"))\n",
    "\n",
    "# Afficher la table de multiplication de n\n",
    "print(f\"Table de multiplication de {n} :\")\n",
    "for i in range(1, 11):  # De 1 à 10\n",
    "    resultat = n * i\n",
    "    print(f\"{n} x {i} = {resultat}\")"
   ]
  },
  {
   "cell_type": "code",
   "execution_count": 32,
   "id": "2f1a4a6c-9210-4a5a-aa5e-6cf5b5fb3369",
   "metadata": {},
   "outputs": [
    {
     "name": "stdout",
     "output_type": "stream",
     "text": [
      "Table de multiplication de 1 :\n",
      "1 x 1 = 1\n",
      "1 x 2 = 2\n",
      "1 x 3 = 3\n",
      "1 x 4 = 4\n",
      "1 x 5 = 5\n",
      "1 x 6 = 6\n",
      "1 x 7 = 7\n",
      "1 x 8 = 8\n",
      "1 x 9 = 9\n",
      "1 x 10 = 10\n",
      "\n",
      "Table de multiplication de 2 :\n",
      "2 x 1 = 2\n",
      "2 x 2 = 4\n",
      "2 x 3 = 6\n",
      "2 x 4 = 8\n",
      "2 x 5 = 10\n",
      "2 x 6 = 12\n",
      "2 x 7 = 14\n",
      "2 x 8 = 16\n",
      "2 x 9 = 18\n",
      "2 x 10 = 20\n",
      "\n",
      "Table de multiplication de 3 :\n",
      "3 x 1 = 3\n",
      "3 x 2 = 6\n",
      "3 x 3 = 9\n",
      "3 x 4 = 12\n",
      "3 x 5 = 15\n",
      "3 x 6 = 18\n",
      "3 x 7 = 21\n",
      "3 x 8 = 24\n",
      "3 x 9 = 27\n",
      "3 x 10 = 30\n",
      "\n",
      "Table de multiplication de 4 :\n",
      "4 x 1 = 4\n",
      "4 x 2 = 8\n",
      "4 x 3 = 12\n",
      "4 x 4 = 16\n",
      "4 x 5 = 20\n",
      "4 x 6 = 24\n",
      "4 x 7 = 28\n",
      "4 x 8 = 32\n",
      "4 x 9 = 36\n",
      "4 x 10 = 40\n",
      "\n",
      "Table de multiplication de 5 :\n",
      "5 x 1 = 5\n",
      "5 x 2 = 10\n",
      "5 x 3 = 15\n",
      "5 x 4 = 20\n",
      "5 x 5 = 25\n",
      "5 x 6 = 30\n",
      "5 x 7 = 35\n",
      "5 x 8 = 40\n",
      "5 x 9 = 45\n",
      "5 x 10 = 50\n",
      "\n",
      "Table de multiplication de 6 :\n",
      "6 x 1 = 6\n",
      "6 x 2 = 12\n",
      "6 x 3 = 18\n",
      "6 x 4 = 24\n",
      "6 x 5 = 30\n",
      "6 x 6 = 36\n",
      "6 x 7 = 42\n",
      "6 x 8 = 48\n",
      "6 x 9 = 54\n",
      "6 x 10 = 60\n",
      "\n",
      "Table de multiplication de 7 :\n",
      "7 x 1 = 7\n",
      "7 x 2 = 14\n",
      "7 x 3 = 21\n",
      "7 x 4 = 28\n",
      "7 x 5 = 35\n",
      "7 x 6 = 42\n",
      "7 x 7 = 49\n",
      "7 x 8 = 56\n",
      "7 x 9 = 63\n",
      "7 x 10 = 70\n",
      "\n",
      "Table de multiplication de 8 :\n",
      "8 x 1 = 8\n",
      "8 x 2 = 16\n",
      "8 x 3 = 24\n",
      "8 x 4 = 32\n",
      "8 x 5 = 40\n",
      "8 x 6 = 48\n",
      "8 x 7 = 56\n",
      "8 x 8 = 64\n",
      "8 x 9 = 72\n",
      "8 x 10 = 80\n",
      "\n",
      "Table de multiplication de 9 :\n",
      "9 x 1 = 9\n",
      "9 x 2 = 18\n",
      "9 x 3 = 27\n",
      "9 x 4 = 36\n",
      "9 x 5 = 45\n",
      "9 x 6 = 54\n",
      "9 x 7 = 63\n",
      "9 x 8 = 72\n",
      "9 x 9 = 81\n",
      "9 x 10 = 90\n",
      "\n"
     ]
    }
   ],
   "source": [
    "# Afficher la table de multiplication pour les nombres de 1 à 9\n",
    "for n in range(1, 10):  # De 1 à 9\n",
    "    print(f\"Table de multiplication de {n} :\")\n",
    "    for i in range(1, 11):  # De 1 à 10\n",
    "        resultat = n * i\n",
    "        print(f\"{n} x {i} = {resultat}\")\n",
    "    print()  # Ligne vide pour séparer les tables"
   ]
  },
  {
   "cell_type": "code",
   "execution_count": 34,
   "id": "c5d2c452-5f41-4f49-a0e1-c9fd84439fff",
   "metadata": {},
   "outputs": [
    {
     "name": "stdin",
     "output_type": "stream",
     "text": [
      "Veuillez entrer le premier nombre (a) :  12\n",
      "Veuillez entrer le deuxième nombre (b) :  2\n"
     ]
    },
    {
     "name": "stdout",
     "output_type": "stream",
     "text": [
      "Le quotient de 12 divisé par 2 est : 6\n",
      "Le reste de 12 divisé par 2 est : 0\n"
     ]
    }
   ],
   "source": [
    "# Demander à l'utilisateur d'entrer les deux nombres\n",
    "a = int(input(\"Veuillez entrer le premier nombre (a) : \"))\n",
    "b = int(input(\"Veuillez entrer le deuxième nombre (b) : \"))\n",
    "\n",
    "# Vérifier que b n'est pas zéro pour éviter la division par zéro\n",
    "if b == 0:\n",
    "    print(\"Erreur : La division par zéro n'est pas définie.\")\n",
    "else:\n",
    "    # Calculer le quotient et le reste\n",
    "    quotient = a // b\n",
    "    reste = a % b\n",
    "\n",
    "    # Afficher les résultats\n",
    "    print(f\"Le quotient de {a} divisé par {b} est : {quotient}\")\n",
    "    print(f\"Le reste de {a} divisé par {b} est : {reste}\")"
   ]
  },
  {
   "cell_type": "code",
   "execution_count": 36,
   "id": "c5be4d06-d154-462f-9d75-0bc20aace9c5",
   "metadata": {},
   "outputs": [
    {
     "name": "stdin",
     "output_type": "stream",
     "text": [
      "Veuillez entrer un nombre entier (n) :  4\n"
     ]
    },
    {
     "name": "stdout",
     "output_type": "stream",
     "text": [
      "4 est un carré parfait.\n"
     ]
    }
   ],
   "source": [
    "import math\n",
    "\n",
    "# Demander à l'utilisateur d'entrer un nombre entier\n",
    "n = int(input(\"Veuillez entrer un nombre entier (n) : \"))\n",
    "\n",
    "# Vérifier si n est un carré parfait\n",
    "racine = int(math.sqrt(n))  # Calculer la racine carrée de n\n",
    "\n",
    "if racine * racine == n:\n",
    "    print(f\"{n} est un carré parfait.\")\n",
    "else:\n",
    "    print(f\"{n} n'est pas un carré parfait.\")"
   ]
  },
  {
   "cell_type": "code",
   "execution_count": 38,
   "id": "192e1ee8-85a8-4352-b19b-77eb1e74c53e",
   "metadata": {},
   "outputs": [
    {
     "name": "stdin",
     "output_type": "stream",
     "text": [
      "Veuillez entrer un nombre entier (n) :  3\n"
     ]
    },
    {
     "name": "stdout",
     "output_type": "stream",
     "text": [
      "3 est un nombre premier.\n"
     ]
    }
   ],
   "source": [
    "# Demander à l'utilisateur d'entrer un nombre entier\n",
    "n = int(input(\"Veuillez entrer un nombre entier (n) : \"))\n",
    "\n",
    "# Fonction pour vérifier si un nombre est premier\n",
    "def est_premier(n):\n",
    "    if n <= 1:\n",
    "        return False  # Les nombres <= 1 ne sont pas premiers\n",
    "    for i in range(2, int(n**0.5) + 1):\n",
    "        if n % i == 0:\n",
    "            return False  # n est divisible par i, donc pas premier\n",
    "    return True  # n est premier\n",
    "\n",
    "# Vérifier si n est premier\n",
    "if est_premier(n):\n",
    "    print(f\"{n} est un nombre premier.\")\n",
    "else:\n",
    "    print(f\"{n} n'est pas un nombre premier.\")"
   ]
  }
 ],
 "metadata": {
  "kernelspec": {
   "display_name": "Python 3 (ipykernel)",
   "language": "python",
   "name": "python3"
  },
  "language_info": {
   "codemirror_mode": {
    "name": "ipython",
    "version": 3
   },
   "file_extension": ".py",
   "mimetype": "text/x-python",
   "name": "python",
   "nbconvert_exporter": "python",
   "pygments_lexer": "ipython3",
   "version": "3.12.7"
  }
 },
 "nbformat": 4,
 "nbformat_minor": 5
}
